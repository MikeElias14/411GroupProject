{
 "cells": [
  {
   "cell_type": "code",
   "execution_count": 1,
   "metadata": {},
   "outputs": [],
   "source": [
    "import numpy as np\n",
    "from scipy.optimize import minimize, Bounds\n",
    "import matplotlib.pyplot as plt"
   ]
  },
  {
   "cell_type": "code",
   "execution_count": 5,
   "metadata": {},
   "outputs": [
    {
     "data": {
      "text/plain": [
       "3.141592653589793"
      ]
     },
     "execution_count": 5,
     "metadata": {},
     "output_type": "execute_result"
    }
   ],
   "source": [
    "W = 10\n",
    "L = 10\n",
    "H = 10"
   ]
  },
  {
   "cell_type": "code",
   "execution_count": 4,
   "metadata": {},
   "outputs": [],
   "source": [
    "def cost(n, z):\n",
    "    return 895*n + (3+0.25*H)*n*(100+15*(H-z))"
   ]
  },
  {
   "cell_type": "code",
   "execution_count": 7,
   "metadata": {},
   "outputs": [],
   "source": [
    "# Constraints\n",
    "\n",
    "# variables: n, xf, yf, zf\n",
    "position_bounds = Bounds([0,0,0], [W, L, H])\n",
    "number_bounds = Bounds(0, np.inf)\n",
    "intensity_bounds = Bounds(300, 500)\n",
    "\n",
    "def light_intensity(n, x, y, xf, yf, zf):\n",
    "    intensity = 0\n",
    "    for i in range(1, n+1):\n",
    "        intensity += 70661/(4*np.pi*(zf[i]**2+(x-xf[i])**2+(y-yf[i])**2))\n",
    "    return intensity"
   ]
  },
  {
   "cell_type": "code",
   "execution_count": 36,
   "metadata": {},
   "outputs": [],
   "source": [
    "def get_points(n):\n",
    "    perimeter = 2*W + 2*H\n",
    "    spacing = perimeter/n\n",
    "    x = []\n",
    "    y = []\n",
    "    posn = [0,0]\n",
    "    \n",
    "    for i in range(n):\n",
    "        if posn[0] < W:\n",
    "            if spacing <= W and (posn[0] + spacing) <= W:\n",
    "                x0 = spacing\n",
    "                y0 = posn[1]\n",
    "            else:\n",
    "                x0 = W\n",
    "                y0 = spacing - posn[0]\n",
    "        else:\n",
    "            if spacing <= H and (posn[1] + spacing) <= H:\n",
    "                x0 = posn[0]\n",
    "                y0 = spacing\n",
    "            else:\n",
    "                x0 = H - posn[1]\n",
    "                y0 = H\n",
    "        if x0 == W and y0 == H:\n",
    "            x0, y0 = 0, 0\n",
    "        x.append(x0)\n",
    "        y.append(y0)\n",
    "        posn = [x0, y0]\n",
    "#         print(posn)\n",
    "    return zip(x, y)"
   ]
  },
  {
   "cell_type": "code",
   "execution_count": 38,
   "metadata": {},
   "outputs": [
    {
     "name": "stdout",
     "output_type": "stream",
     "text": [
      "(15.0, 0)\n",
      "(20, 0.0)\n",
      "(10.0, 10)\n",
      "(20, 5.0)\n"
     ]
    }
   ],
   "source": [
    "W = 20\n",
    "H = 10\n",
    "points = get_points(4)\n",
    "for i in points:\n",
    "    print(i)"
   ]
  },
  {
   "cell_type": "code",
   "execution_count": 27,
   "metadata": {},
   "outputs": [
    {
     "data": {
      "text/plain": [
       "15.0"
      ]
     },
     "execution_count": 27,
     "metadata": {},
     "output_type": "execute_result"
    }
   ],
   "source": [
    "60/4"
   ]
  },
  {
   "cell_type": "code",
   "execution_count": 14,
   "metadata": {},
   "outputs": [],
   "source": [
    "# Given, meters\n",
    "h = 1\n",
    "l = 20\n",
    "w = 19\n",
    "unit_price = 895\n",
    "watts = 70661\n",
    "\n",
    "# Constraints\n",
    "min_z = 2\n",
    "max_z = h\n",
    "min_i = 300\n",
    "max_i = 500\n",
    "\n",
    "# Variables\n",
    "# position, in metres of each light\n",
    "num_lights = 0\n",
    "pos_x = []\n",
    "pos_y = []\n",
    "pos_z = 4\n",
    "\n",
    "# This funct is given point_x and point_y in m\n",
    "def get_lux(point_x, point_y, n):\n",
    "    i = 0\n",
    "    for m in range(n):\n",
    "        i += watts / ((4 * np.pi) * (pos_z**2 + (point_x - pos_x[m])**2 + (point_y - pos_y[m])**2))\n",
    "    return i\n",
    "\n",
    "def set_starting_points(n):\n",
    "    pos_x = []\n",
    "    pos_y = []\n",
    "    p = (l+w)*2\n",
    "\n",
    "    seg = p/n\n",
    "\n",
    "    for i in range(n):\n",
    "        dist = seg*i\n",
    "\n",
    "        if dist <= l:\n",
    "            pos_x.append(dist)\n",
    "            pos_y.append(0)\n",
    "        elif l < dist <= l+w:\n",
    "            pos_x.append(l)\n",
    "            pos_y.append(dist-l)\n",
    "        elif l+w < dist <= (2*l)+w:\n",
    "            pos_x.append(l-(dist-(l+w)))\n",
    "            pos_y.append(w)\n",
    "        elif (2*l)+w < dist:\n",
    "            pos_x.append(0)\n",
    "            pos_y.append(w-(dist-((2*l)+w)))\n",
    "    print(\"starting point: \", pos_x, pos_y)\n",
    "    return pos_x, pos_y\n",
    "\n",
    "def move_lights(n):\n",
    "    mid_x = l*0.5\n",
    "    mid_y = w*0.5\n",
    "    for i in range(n):\n",
    "        x = pos_x[i]\n",
    "        y = pos_y[i]\n",
    "\n",
    "        if mid_x > x:\n",
    "            pos_x[i] += 0.01\n",
    "        elif mid_x < x:\n",
    "            pos_x[i] -= 0.01\n",
    "\n",
    "        if mid_y > y:\n",
    "            pos_y[i] += 0.01\n",
    "        elif mid_y < y:\n",
    "            pos_y[i] -= 0.01\n",
    "    return\n",
    "\n",
    "def move(n, mid_x, mid_y):\n",
    "    for i in range(n):\n",
    "        x0 = pos_x[i]\n",
    "        y0 = pos_y[i]\n",
    "        try:\n",
    "            if x0-0.1 <= mid_x <= x0+0.1 or y0-0.1 <= mid_y <= y0+0.1:\n",
    "                print(\"add a light!\")\n",
    "                return False\n",
    "\n",
    "            if x0 < mid_x:\n",
    "                x = x0+0.01\n",
    "                y = ((mid_y-y0)/(mid_x-x0))*(x-x0) + y0\n",
    "            else: # x0 > mid_x:\n",
    "                x = x0-0.01\n",
    "                y = ((mid_y-y0)/(mid_x-x0))*(x-x0) + y0\n",
    "    #         print(x, mid_x, y, mid_y)\n",
    "    #         if x-1 <= mid_x <= x+1 and y-1 <= mid_y <= y+1:\n",
    "    #             print(\"add a light!\")\n",
    "    #             return False\n",
    "        except:\n",
    "            print(mid_x, x0, x0-0.1<=mid_x<=x0+0.1)\n",
    "            raise ValueError\n",
    "        \n",
    "        pos_x[i] = x\n",
    "        pos_y[i] = y\n",
    "#         print(pos_x, pos_y)\n",
    "    return True\n",
    "\n",
    "def get_hours():\n",
    "    hours = 3 * (0.25 * h)\n",
    "    return hours\n",
    "\n",
    "def get_labor_cost(n):\n",
    "    time = get_hours()\n",
    "    cost = time * n * (100 + (15 * (h - pos_z)))\n",
    "    return cost"
   ]
  },
  {
   "cell_type": "code",
   "execution_count": 15,
   "metadata": {
    "scrolled": false
   },
   "outputs": [
    {
     "name": "stdout",
     "output_type": "stream",
     "text": [
      "starting point:  [0.0] [0]\n",
      "add a light!\n",
      "starting point:  [0.0, 20] [0, 19.0]\n",
      "add a light!\n",
      "starting point:  [0.0, 20, 7.0] [0, 6.0, 19]\n",
      "add a light!\n",
      "starting point:  [0.0, 19.5, 20, 0.5] [0, 0, 19.0, 19]\n",
      "add a light!\n",
      "starting point:  [0.0, 15.6, 20, 12.200000000000003, 0] [0, 0, 11.2, 19, 15.600000000000001]\n",
      "add a light!\n",
      "starting point:  [0.0, 13.0, 20, 20, 7.0, 0] [0, 0, 6.0, 19.0, 19, 13.0]\n",
      "add a light!\n",
      "starting point:  [0.0, 11.142857142857142, 20, 20, 14.42857142857143, 3.285714285714292, 0] [0, 0, 2.2857142857142847, 13.42857142857143, 19, 19, 11.142857142857139]\n"
     ]
    },
    {
     "data": {
      "image/png": "[encoded data removed]",
      "text/plain": [
       "<Figure size 432x288 with 2 Axes>"
      ]
     },
     "metadata": {
      "needs_background": "light"
     },
     "output_type": "display_data"
    },
    {
     "name": "stdout",
     "output_type": "stream",
     "text": [
      "num_lights: 7\n",
      "pos_x: [0.10999999999999999, 11.032857142857145, 19.889999999999983, 19.889999999999983, 14.318571428571433, 3.3957142857142895, 0.10999999999999999]\n",
      "pos_y: [0.10449999999999998, 0.9143749999999808, 2.3650714285714387, 13.385357142857137, 18.764032258064535, 18.844361702127667, 11.124785714285716]\n"
     ]
    }
   ],
   "source": [
    "def f(n):\n",
    "    function = unit_price * n + get_labor_cost(n)\n",
    "    return function\n",
    "\n",
    "def heatmap2d(arr: np.ndarray, data_x, data_y):\n",
    "#     plt.plot(data_x, data_y, 'o')\n",
    "    plt.imshow(arr.T, cmap='viridis')\n",
    "    plt.colorbar()\n",
    "#     plt.plot(data_x, data_y, 'o')\n",
    "    plt.xlim(0,l*100)\n",
    "    plt.ylim(0,w*100)\n",
    "    plt.show()\n",
    "    \n",
    "def movement(data_x, data_y):\n",
    "    for i in range(len(data_x)):\n",
    "        plt.scatter(data_x[i], data_y[i])\n",
    "    plt.xlim(0,l)\n",
    "    plt.ylim(0,w)\n",
    "    plt.show()\n",
    "\n",
    "# Room is a 2d array of lxw, in cm, at reading level\n",
    "room = np.zeros(shape=(l*100, w*100))\n",
    "path_x = []\n",
    "path_y = []\n",
    "# print(path)\n",
    "width = room.shape[1]\n",
    "length = room.shape[0]\n",
    "\n",
    "n=0\n",
    "passed = False\n",
    "while not passed:\n",
    "    n += 1\n",
    "    pos_x, pos_y = set_starting_points(n)\n",
    "    path_x.append(np.zeros(w*100))\n",
    "    path_y.append(np.zeros(w*100))\n",
    "\n",
    "    done = False\n",
    "    while not done:\n",
    "        for j in range(0, length):\n",
    "            for k in range(0, width):\n",
    "                lux = get_lux(j/100, k/100, n)\n",
    "                room[j, k] = lux  # pass meters to get_lux\n",
    "                if lux < min_i:\n",
    "#                     move_lights(n)\n",
    "                    if not move(n, l*0.5, w*0.5):\n",
    "                        done = True\n",
    "                    for fixture in range(n):\n",
    "                        path_x[fixture][k] = pos_x[fixture]\n",
    "                        path_y[fixture][k] = pos_y[fixture]\n",
    "                    passed = False\n",
    "                    break\n",
    "            else:\n",
    "                continue\n",
    "            break\n",
    "        else:\n",
    "            passed = True\n",
    "            done = True\n",
    "\n",
    "heatmap2d(room, path_x, path_y)\n",
    "# movement(path_x, path_y)\n",
    "\n",
    "print(\"num_lights: \" + str(n))\n",
    "print(\"pos_x: \" + str(pos_x))\n",
    "print(\"pos_y: \" + str(pos_y))"
   ]
  },
  {
   "cell_type": "code",
   "execution_count": 10,
   "metadata": {},
   "outputs": [
    {
     "data": {
      "text/plain": [
       "(600,)"
      ]
     },
     "execution_count": 10,
     "metadata": {},
     "output_type": "execute_result"
    }
   ],
   "source": []
  },
  {
   "cell_type": "code",
   "execution_count": 73,
   "metadata": {},
   "outputs": [],
   "source": [
    "array = [0, 0, 0]\n",
    "array[0] = [2,2]"
   ]
  },
  {
   "cell_type": "code",
   "execution_count": 74,
   "metadata": {},
   "outputs": [
    {
     "data": {
      "text/plain": [
       "[[2, 2], 0, 0]"
      ]
     },
     "execution_count": 74,
     "metadata": {},
     "output_type": "execute_result"
    }
   ],
   "source": [
    "array"
   ]
  },
  {
   "cell_type": "code",
   "execution_count": 115,
   "metadata": {},
   "outputs": [],
   "source": [
    "def move(n, pos_x, pos_y, mid_x, mid_y):\n",
    "    for i in range(n):\n",
    "        x0 = pos_x[i]\n",
    "        y0 = pos_y[i]\n",
    "        if x0 < mid_x:\n",
    "            x = x0+0.01\n",
    "            y = ((mid_y-y0)/(mid_x-x0))*(x-x0) + y0\n",
    "        elif x0 > mid_x:\n",
    "            x = x0-0.01\n",
    "            y = ((mid_y-y0)/(mid_x-x0))*(x-x0) + y0\n",
    "        else:\n",
    "            x = mid_x\n",
    "            y = mid_y\n",
    "        pos_x[i] = x\n",
    "        pos_y[i] = y\n",
    "    return pos_x, pos_y"
   ]
  },
  {
   "cell_type": "code",
   "execution_count": 117,
   "metadata": {},
   "outputs": [
    {
     "name": "stdout",
     "output_type": "stream",
     "text": [
      "0\n",
      "less 0.01\n",
      "1\n",
      "more 9.99 19.98\n"
     ]
    },
    {
     "data": {
      "text/plain": [
       "([0.02, 9.98], [0.04, 19.96])"
      ]
     },
     "execution_count": 117,
     "metadata": {},
     "output_type": "execute_result"
    }
   ],
   "source": [
    "move(2, [0.01,9.99],[0.02,19.98], 5, 10)"
   ]
  },
  {
   "cell_type": "code",
   "execution_count": 165,
   "metadata": {},
   "outputs": [],
   "source": [
    "test = []"
   ]
  },
  {
   "cell_type": "code",
   "execution_count": 166,
   "metadata": {},
   "outputs": [],
   "source": [
    "test.append([])"
   ]
  },
  {
   "cell_type": "code",
   "execution_count": 168,
   "metadata": {},
   "outputs": [],
   "source": [
    "test.append([])"
   ]
  },
  {
   "cell_type": "code",
   "execution_count": 169,
   "metadata": {},
   "outputs": [
    {
     "data": {
      "text/plain": [
       "[[], []]"
      ]
     },
     "execution_count": 169,
     "metadata": {},
     "output_type": "execute_result"
    }
   ],
   "source": [
    "test"
   ]
  },
  {
   "cell_type": "code",
   "execution_count": 171,
   "metadata": {},
   "outputs": [
    {
     "data": {
      "text/plain": [
       "(1000,)"
      ]
     },
     "execution_count": 171,
     "metadata": {},
     "output_type": "execute_result"
    }
   ],
   "source": [
    "path_x.shape"
   ]
  },
  {
   "cell_type": "markdown",
   "metadata": {},
   "source": [
    "### Clean"
   ]
  },
  {
   "cell_type": "code",
   "execution_count": 25,
   "metadata": {},
   "outputs": [],
   "source": [
    "import numpy as np\n",
    "import matplotlib.pyplot as plt"
   ]
  },
  {
   "cell_type": "code",
   "execution_count": 32,
   "metadata": {},
   "outputs": [],
   "source": [
    "# Given, meters\n",
    "h = 1\n",
    "l = 4\n",
    "w = 3\n",
    "unit_price = 895\n",
    "watts = 70661\n",
    "\n",
    "# Constraints\n",
    "min_z = 2\n",
    "max_z = h\n",
    "min_i = 300\n",
    "max_i = 500\n",
    "\n",
    "# Variables\n",
    "# position, in metres of each light\n",
    "num_lights = 0\n",
    "# pos_x = []\n",
    "# pos_y = []\n",
    "pos_z = 4\n",
    "\n",
    "path_x = []\n",
    "path_y = []"
   ]
  },
  {
   "cell_type": "code",
   "execution_count": 56,
   "metadata": {},
   "outputs": [],
   "source": [
    "def get_lux(point_x, point_y, n, pos_x, pos_y):\n",
    "    i = 0\n",
    "    for m in range(n):\n",
    "        i += watts / ((4 * np.pi) * (pos_z**2 + (point_x - pos_x[m])**2 + (point_y - pos_y[m])**2))\n",
    "    return i\n",
    "\n",
    "def set_starting_points(n):\n",
    "    pos_x = []\n",
    "    pos_y = []\n",
    "    p = (l+w)*2\n",
    "\n",
    "    seg = p/n\n",
    "\n",
    "    for i in range(n):\n",
    "        dist = seg*i\n",
    "\n",
    "        if dist <= l:\n",
    "            pos_x.append(dist)\n",
    "            pos_y.append(0)\n",
    "        elif l < dist <= l+w:\n",
    "            pos_x.append(l)\n",
    "            pos_y.append(dist-l)\n",
    "        elif l+w < dist <= (2*l)+w:\n",
    "            pos_x.append(l-(dist-(l+w)))\n",
    "            pos_y.append(w)\n",
    "        elif (2*l)+w < dist:\n",
    "            pos_x.append(0)\n",
    "            pos_y.append(w-(dist-((2*l)+w)))\n",
    "    print(\"starting points: \", pos_x, pos_y)\n",
    "    return pos_x, pos_y\n",
    "\n",
    "def move(n, mid_x, mid_y, pos_x, pos_y):\n",
    "    for i in range(n):\n",
    "        x0 = pos_x[i]\n",
    "        y0 = pos_y[i]\n",
    "        try:\n",
    "            if x0-0.1 <= mid_x <= x0+0.1 or y0-0.1 <= mid_y <= y0+0.1:\n",
    "                print(\"add a light!\")\n",
    "                return False\n",
    "\n",
    "            if x0 < mid_x:\n",
    "                x = x0+0.01\n",
    "                y = ((mid_y-y0)/(mid_x-x0))*(x-x0) + y0\n",
    "            else: # x0 > mid_x:\n",
    "                x = x0-0.01\n",
    "                y = ((mid_y-y0)/(mid_x-x0))*(x-x0) + y0\n",
    "        except:\n",
    "            print(mid_x, x0, x0-0.1<=mid_x<=x0+0.1)\n",
    "            raise ValueError\n",
    "        \n",
    "        pos_x[i] = x\n",
    "        pos_y[i] = y\n",
    "    return True"
   ]
  },
  {
   "cell_type": "code",
   "execution_count": 46,
   "metadata": {},
   "outputs": [],
   "source": [
    "# Plotting function\n",
    "def heatmap2d(arr: np.ndarray):\n",
    "    plt.imshow(arr.T, cmap='viridis')\n",
    "    plt.colorbar()\n",
    "    plt.xlim(0,l*100)\n",
    "    plt.ylim(0,w*100)\n",
    "    plt.show()\n",
    "\n",
    "def gather_moves(n, k, path_x, path_y, pos_x, pos_y):\n",
    "    for fixture in range(n):\n",
    "        path_x[fixture][k] = pos_x[fixture]\n",
    "        path_y[fixture][k] = pos_y[fixture]"
   ]
  },
  {
   "cell_type": "code",
   "execution_count": 50,
   "metadata": {},
   "outputs": [],
   "source": [
    "def optimize_lights():\n",
    "    # Room is a 2d array of lxw, in cm, at reading level\n",
    "    room = np.zeros(shape=(l*100, w*100))\n",
    "    width = room.shape[1]\n",
    "    length = room.shape[0]\n",
    "    path_x = []\n",
    "    path_y = []\n",
    "\n",
    "    n=0\n",
    "    passed = False\n",
    "    while not passed:\n",
    "        n += 1\n",
    "        pos_x, pos_y = set_starting_points(n)\n",
    "        path_x.append(np.zeros(w*100))\n",
    "        path_y.append(np.zeros(w*100))\n",
    "\n",
    "        done = False\n",
    "        while not done:\n",
    "            for j in range(0, length):\n",
    "                for k in range(0, width):\n",
    "                    lux = get_lux(j/100, k/100, n, pos_x, pos_y)\n",
    "                    room[j, k] = lux  # pass meters to get_lux\n",
    "                    if lux < min_i:\n",
    "                        if not move(n, l*0.5, w*0.5, pos_x, pos_y):\n",
    "                            done = True\n",
    "                        gather_moves(n, k, path_x, path_y, pos_x, pos_y) # for plotting\n",
    "                        passed = False\n",
    "                        break\n",
    "                else:\n",
    "                    continue\n",
    "                break\n",
    "            else:\n",
    "                passed = True\n",
    "                done = True\n",
    "    return n, room, pos_x, pos_y"
   ]
  },
  {
   "cell_type": "code",
   "execution_count": 55,
   "metadata": {},
   "outputs": [
    {
     "name": "stdout",
     "output_type": "stream",
     "text": [
      "starting point:  [0.0] [0]\n",
      "add a light!\n",
      "starting point:  [0.0, 10] [0, 7.0]\n",
      "add a light!\n",
      "starting point:  [0.0, 10, 4.333333333333332] [0, 1.333333333333334, 7]\n",
      "add a light!\n",
      "starting point:  [0.0, 8.5, 10, 1.5] [0, 0, 7.0, 7]\n"
     ]
    },
    {
     "data": {
      "image/png": "[encoded data removed]",
      "text/plain": [
       "<Figure size 432x288 with 2 Axes>"
      ]
     },
     "metadata": {
      "needs_background": "light"
     },
     "output_type": "display_data"
    },
    {
     "name": "stdout",
     "output_type": "stream",
     "text": [
      "Number of lights: 4\n",
      "Fixture 1: (0.0, 0)\n",
      "Fixture 2: (8.5, 0)\n",
      "Fixture 3: (10, 7.0)\n",
      "Fixture 4: (1.5, 7)\n"
     ]
    }
   ],
   "source": [
    "# variables (more accessible)\n",
    "h = 1\n",
    "l = 10\n",
    "w = 7\n",
    "\n",
    "num_lights, room_lux, end_x, end_y = optimize_lights()\n",
    "\n",
    "heatmap2d(room_lux)\n",
    "\n",
    "print(\"Number of lights: \" + str(num_lights))\n",
    "for i, point in enumerate(zip(end_x, end_y)):\n",
    "    print(\"Fixture {}: {}\".format(i+1, point))"
   ]
  },
  {
   "cell_type": "code",
   "execution_count": null,
   "metadata": {},
   "outputs": [],
   "source": []
  }
 ],
 "metadata": {
  "kernelspec": {
   "display_name": "Python 3",
   "language": "python",
   "name": "python3"
  },
  "language_info": {
   "codemirror_mode": {
    "name": "ipython",
    "version": 3
   },
   "file_extension": ".py",
   "mimetype": "text/x-python",
   "name": "python",
   "nbconvert_exporter": "python",
   "pygments_lexer": "ipython3",
   "version": "3.7.3"
  }
 },
 "nbformat": 4,
 "nbformat_minor": 4
}
